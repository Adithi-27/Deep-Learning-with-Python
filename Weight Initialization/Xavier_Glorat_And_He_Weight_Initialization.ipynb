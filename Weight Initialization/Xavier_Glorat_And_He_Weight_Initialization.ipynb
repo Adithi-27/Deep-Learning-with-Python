{
  "nbformat": 4,
  "nbformat_minor": 0,
  "metadata": {
    "colab": {
      "provenance": [],
      "gpuType": "T4"
    },
    "kernelspec": {
      "name": "python3",
      "display_name": "Python 3"
    },
    "language_info": {
      "name": "python"
    },
    "accelerator": "GPU"
  },
  "cells": [
    {
      "cell_type": "code",
      "execution_count": 1,
      "metadata": {
        "id": "D-YAxcrJZKnV"
      },
      "outputs": [],
      "source": [
        "import numpy as np\n",
        "import pandas as pd\n",
        "import matplotlib.pyplot as plt"
      ]
    },
    {
      "cell_type": "code",
      "source": [
        "df = pd.read_csv('/content/ushape.csv',header=None,names=['X','Y','class'])"
      ],
      "metadata": {
        "id": "rp5N-8zvaYUd"
      },
      "execution_count": 2,
      "outputs": []
    },
    {
      "cell_type": "code",
      "source": [
        "df.head()"
      ],
      "metadata": {
        "colab": {
          "base_uri": "https://localhost:8080/",
          "height": 206
        },
        "id": "-HdwHaKEaqiK",
        "outputId": "8c18c821-98b5-4565-81fd-1159623f2b4a"
      },
      "execution_count": 3,
      "outputs": [
        {
          "output_type": "execute_result",
          "data": {
            "text/plain": [
              "          X         Y  class\n",
              "0  0.031595  0.986988    0.0\n",
              "1  2.115098 -0.046244    1.0\n",
              "2  0.882490 -0.075756    0.0\n",
              "3 -0.055144 -0.037332    1.0\n",
              "4  0.829545 -0.539321    1.0"
            ],
            "text/html": [
              "\n",
              "  <div id=\"df-37e8fdfb-ed5e-4c23-b5c4-ec00e1c4ab12\" class=\"colab-df-container\">\n",
              "    <div>\n",
              "<style scoped>\n",
              "    .dataframe tbody tr th:only-of-type {\n",
              "        vertical-align: middle;\n",
              "    }\n",
              "\n",
              "    .dataframe tbody tr th {\n",
              "        vertical-align: top;\n",
              "    }\n",
              "\n",
              "    .dataframe thead th {\n",
              "        text-align: right;\n",
              "    }\n",
              "</style>\n",
              "<table border=\"1\" class=\"dataframe\">\n",
              "  <thead>\n",
              "    <tr style=\"text-align: right;\">\n",
              "      <th></th>\n",
              "      <th>X</th>\n",
              "      <th>Y</th>\n",
              "      <th>class</th>\n",
              "    </tr>\n",
              "  </thead>\n",
              "  <tbody>\n",
              "    <tr>\n",
              "      <th>0</th>\n",
              "      <td>0.031595</td>\n",
              "      <td>0.986988</td>\n",
              "      <td>0.0</td>\n",
              "    </tr>\n",
              "    <tr>\n",
              "      <th>1</th>\n",
              "      <td>2.115098</td>\n",
              "      <td>-0.046244</td>\n",
              "      <td>1.0</td>\n",
              "    </tr>\n",
              "    <tr>\n",
              "      <th>2</th>\n",
              "      <td>0.882490</td>\n",
              "      <td>-0.075756</td>\n",
              "      <td>0.0</td>\n",
              "    </tr>\n",
              "    <tr>\n",
              "      <th>3</th>\n",
              "      <td>-0.055144</td>\n",
              "      <td>-0.037332</td>\n",
              "      <td>1.0</td>\n",
              "    </tr>\n",
              "    <tr>\n",
              "      <th>4</th>\n",
              "      <td>0.829545</td>\n",
              "      <td>-0.539321</td>\n",
              "      <td>1.0</td>\n",
              "    </tr>\n",
              "  </tbody>\n",
              "</table>\n",
              "</div>\n",
              "    <div class=\"colab-df-buttons\">\n",
              "\n",
              "  <div class=\"colab-df-container\">\n",
              "    <button class=\"colab-df-convert\" onclick=\"convertToInteractive('df-37e8fdfb-ed5e-4c23-b5c4-ec00e1c4ab12')\"\n",
              "            title=\"Convert this dataframe to an interactive table.\"\n",
              "            style=\"display:none;\">\n",
              "\n",
              "  <svg xmlns=\"http://www.w3.org/2000/svg\" height=\"24px\" viewBox=\"0 -960 960 960\">\n",
              "    <path d=\"M120-120v-720h720v720H120Zm60-500h600v-160H180v160Zm220 220h160v-160H400v160Zm0 220h160v-160H400v160ZM180-400h160v-160H180v160Zm440 0h160v-160H620v160ZM180-180h160v-160H180v160Zm440 0h160v-160H620v160Z\"/>\n",
              "  </svg>\n",
              "    </button>\n",
              "\n",
              "  <style>\n",
              "    .colab-df-container {\n",
              "      display:flex;\n",
              "      gap: 12px;\n",
              "    }\n",
              "\n",
              "    .colab-df-convert {\n",
              "      background-color: #E8F0FE;\n",
              "      border: none;\n",
              "      border-radius: 50%;\n",
              "      cursor: pointer;\n",
              "      display: none;\n",
              "      fill: #1967D2;\n",
              "      height: 32px;\n",
              "      padding: 0 0 0 0;\n",
              "      width: 32px;\n",
              "    }\n",
              "\n",
              "    .colab-df-convert:hover {\n",
              "      background-color: #E2EBFA;\n",
              "      box-shadow: 0px 1px 2px rgba(60, 64, 67, 0.3), 0px 1px 3px 1px rgba(60, 64, 67, 0.15);\n",
              "      fill: #174EA6;\n",
              "    }\n",
              "\n",
              "    .colab-df-buttons div {\n",
              "      margin-bottom: 4px;\n",
              "    }\n",
              "\n",
              "    [theme=dark] .colab-df-convert {\n",
              "      background-color: #3B4455;\n",
              "      fill: #D2E3FC;\n",
              "    }\n",
              "\n",
              "    [theme=dark] .colab-df-convert:hover {\n",
              "      background-color: #434B5C;\n",
              "      box-shadow: 0px 1px 3px 1px rgba(0, 0, 0, 0.15);\n",
              "      filter: drop-shadow(0px 1px 2px rgba(0, 0, 0, 0.3));\n",
              "      fill: #FFFFFF;\n",
              "    }\n",
              "  </style>\n",
              "\n",
              "    <script>\n",
              "      const buttonEl =\n",
              "        document.querySelector('#df-37e8fdfb-ed5e-4c23-b5c4-ec00e1c4ab12 button.colab-df-convert');\n",
              "      buttonEl.style.display =\n",
              "        google.colab.kernel.accessAllowed ? 'block' : 'none';\n",
              "\n",
              "      async function convertToInteractive(key) {\n",
              "        const element = document.querySelector('#df-37e8fdfb-ed5e-4c23-b5c4-ec00e1c4ab12');\n",
              "        const dataTable =\n",
              "          await google.colab.kernel.invokeFunction('convertToInteractive',\n",
              "                                                    [key], {});\n",
              "        if (!dataTable) return;\n",
              "\n",
              "        const docLinkHtml = 'Like what you see? Visit the ' +\n",
              "          '<a target=\"_blank\" href=https://colab.research.google.com/notebooks/data_table.ipynb>data table notebook</a>'\n",
              "          + ' to learn more about interactive tables.';\n",
              "        element.innerHTML = '';\n",
              "        dataTable['output_type'] = 'display_data';\n",
              "        await google.colab.output.renderOutput(dataTable, element);\n",
              "        const docLink = document.createElement('div');\n",
              "        docLink.innerHTML = docLinkHtml;\n",
              "        element.appendChild(docLink);\n",
              "      }\n",
              "    </script>\n",
              "  </div>\n",
              "\n",
              "\n",
              "<div id=\"df-36a41395-0c74-493e-aa58-5e45834b02ab\">\n",
              "  <button class=\"colab-df-quickchart\" onclick=\"quickchart('df-36a41395-0c74-493e-aa58-5e45834b02ab')\"\n",
              "            title=\"Suggest charts\"\n",
              "            style=\"display:none;\">\n",
              "\n",
              "<svg xmlns=\"http://www.w3.org/2000/svg\" height=\"24px\"viewBox=\"0 0 24 24\"\n",
              "     width=\"24px\">\n",
              "    <g>\n",
              "        <path d=\"M19 3H5c-1.1 0-2 .9-2 2v14c0 1.1.9 2 2 2h14c1.1 0 2-.9 2-2V5c0-1.1-.9-2-2-2zM9 17H7v-7h2v7zm4 0h-2V7h2v10zm4 0h-2v-4h2v4z\"/>\n",
              "    </g>\n",
              "</svg>\n",
              "  </button>\n",
              "\n",
              "<style>\n",
              "  .colab-df-quickchart {\n",
              "      --bg-color: #E8F0FE;\n",
              "      --fill-color: #1967D2;\n",
              "      --hover-bg-color: #E2EBFA;\n",
              "      --hover-fill-color: #174EA6;\n",
              "      --disabled-fill-color: #AAA;\n",
              "      --disabled-bg-color: #DDD;\n",
              "  }\n",
              "\n",
              "  [theme=dark] .colab-df-quickchart {\n",
              "      --bg-color: #3B4455;\n",
              "      --fill-color: #D2E3FC;\n",
              "      --hover-bg-color: #434B5C;\n",
              "      --hover-fill-color: #FFFFFF;\n",
              "      --disabled-bg-color: #3B4455;\n",
              "      --disabled-fill-color: #666;\n",
              "  }\n",
              "\n",
              "  .colab-df-quickchart {\n",
              "    background-color: var(--bg-color);\n",
              "    border: none;\n",
              "    border-radius: 50%;\n",
              "    cursor: pointer;\n",
              "    display: none;\n",
              "    fill: var(--fill-color);\n",
              "    height: 32px;\n",
              "    padding: 0;\n",
              "    width: 32px;\n",
              "  }\n",
              "\n",
              "  .colab-df-quickchart:hover {\n",
              "    background-color: var(--hover-bg-color);\n",
              "    box-shadow: 0 1px 2px rgba(60, 64, 67, 0.3), 0 1px 3px 1px rgba(60, 64, 67, 0.15);\n",
              "    fill: var(--button-hover-fill-color);\n",
              "  }\n",
              "\n",
              "  .colab-df-quickchart-complete:disabled,\n",
              "  .colab-df-quickchart-complete:disabled:hover {\n",
              "    background-color: var(--disabled-bg-color);\n",
              "    fill: var(--disabled-fill-color);\n",
              "    box-shadow: none;\n",
              "  }\n",
              "\n",
              "  .colab-df-spinner {\n",
              "    border: 2px solid var(--fill-color);\n",
              "    border-color: transparent;\n",
              "    border-bottom-color: var(--fill-color);\n",
              "    animation:\n",
              "      spin 1s steps(1) infinite;\n",
              "  }\n",
              "\n",
              "  @keyframes spin {\n",
              "    0% {\n",
              "      border-color: transparent;\n",
              "      border-bottom-color: var(--fill-color);\n",
              "      border-left-color: var(--fill-color);\n",
              "    }\n",
              "    20% {\n",
              "      border-color: transparent;\n",
              "      border-left-color: var(--fill-color);\n",
              "      border-top-color: var(--fill-color);\n",
              "    }\n",
              "    30% {\n",
              "      border-color: transparent;\n",
              "      border-left-color: var(--fill-color);\n",
              "      border-top-color: var(--fill-color);\n",
              "      border-right-color: var(--fill-color);\n",
              "    }\n",
              "    40% {\n",
              "      border-color: transparent;\n",
              "      border-right-color: var(--fill-color);\n",
              "      border-top-color: var(--fill-color);\n",
              "    }\n",
              "    60% {\n",
              "      border-color: transparent;\n",
              "      border-right-color: var(--fill-color);\n",
              "    }\n",
              "    80% {\n",
              "      border-color: transparent;\n",
              "      border-right-color: var(--fill-color);\n",
              "      border-bottom-color: var(--fill-color);\n",
              "    }\n",
              "    90% {\n",
              "      border-color: transparent;\n",
              "      border-bottom-color: var(--fill-color);\n",
              "    }\n",
              "  }\n",
              "</style>\n",
              "\n",
              "  <script>\n",
              "    async function quickchart(key) {\n",
              "      const quickchartButtonEl =\n",
              "        document.querySelector('#' + key + ' button');\n",
              "      quickchartButtonEl.disabled = true;  // To prevent multiple clicks.\n",
              "      quickchartButtonEl.classList.add('colab-df-spinner');\n",
              "      try {\n",
              "        const charts = await google.colab.kernel.invokeFunction(\n",
              "            'suggestCharts', [key], {});\n",
              "      } catch (error) {\n",
              "        console.error('Error during call to suggestCharts:', error);\n",
              "      }\n",
              "      quickchartButtonEl.classList.remove('colab-df-spinner');\n",
              "      quickchartButtonEl.classList.add('colab-df-quickchart-complete');\n",
              "    }\n",
              "    (() => {\n",
              "      let quickchartButtonEl =\n",
              "        document.querySelector('#df-36a41395-0c74-493e-aa58-5e45834b02ab button');\n",
              "      quickchartButtonEl.style.display =\n",
              "        google.colab.kernel.accessAllowed ? 'block' : 'none';\n",
              "    })();\n",
              "  </script>\n",
              "</div>\n",
              "\n",
              "    </div>\n",
              "  </div>\n"
            ],
            "application/vnd.google.colaboratory.intrinsic+json": {
              "type": "dataframe",
              "variable_name": "df",
              "summary": "{\n  \"name\": \"df\",\n  \"rows\": 100,\n  \"fields\": [\n    {\n      \"column\": \"X\",\n      \"properties\": {\n        \"dtype\": \"number\",\n        \"std\": 0.8910441577790993,\n        \"min\": -1.318500344394381,\n        \"max\": 2.181371683049025,\n        \"num_unique_values\": 100,\n        \"samples\": [\n          -0.8753936535485005,\n          -0.5134668595395712,\n          0.2457559354815964\n        ],\n        \"semantic_type\": \"\",\n        \"description\": \"\"\n      }\n    },\n    {\n      \"column\": \"Y\",\n      \"properties\": {\n        \"dtype\": \"number\",\n        \"std\": 0.5928850846536865,\n        \"min\": -1.0357020680498332,\n        \"max\": 1.5718993127141032,\n        \"num_unique_values\": 100,\n        \"samples\": [\n          0.5054342299267167,\n          0.6786909545326081,\n          0.8496383011786973\n        ],\n        \"semantic_type\": \"\",\n        \"description\": \"\"\n      }\n    },\n    {\n      \"column\": \"class\",\n      \"properties\": {\n        \"dtype\": \"number\",\n        \"std\": 0.502518907629606,\n        \"min\": 0.0,\n        \"max\": 1.0,\n        \"num_unique_values\": 2,\n        \"samples\": [\n          1.0,\n          0.0\n        ],\n        \"semantic_type\": \"\",\n        \"description\": \"\"\n      }\n    }\n  ]\n}"
            }
          },
          "metadata": {},
          "execution_count": 3
        }
      ]
    },
    {
      "cell_type": "code",
      "source": [
        "plt.scatter(df['X'],df['Y'],c=df['class'])"
      ],
      "metadata": {
        "colab": {
          "base_uri": "https://localhost:8080/",
          "height": 447
        },
        "id": "BSW_3-pqav1O",
        "outputId": "e617c190-0bf9-44de-c07d-d11a1b5ef42e"
      },
      "execution_count": 4,
      "outputs": [
        {
          "output_type": "execute_result",
          "data": {
            "text/plain": [
              "<matplotlib.collections.PathCollection at 0x793b42b022d0>"
            ]
          },
          "metadata": {},
          "execution_count": 4
        },
        {
          "output_type": "display_data",
          "data": {
            "text/plain": [
              "<Figure size 640x480 with 1 Axes>"
            ],
            "image/png": "[encoded data removed]"
          },
          "metadata": {}
        }
      ]
    },
    {
      "cell_type": "code",
      "source": [
        "X = df.iloc[:,0:2].values\n",
        "y = df.iloc[:,-1].values"
      ],
      "metadata": {
        "id": "Nji35g3ya1TL"
      },
      "execution_count": 5,
      "outputs": []
    },
    {
      "cell_type": "code",
      "source": [
        "import tensorflow\n",
        "from tensorflow import keras\n",
        "from keras import Sequential\n",
        "from keras.layers import Dense"
      ],
      "metadata": {
        "id": "iffPLsy3a45V"
      },
      "execution_count": 6,
      "outputs": []
    },
    {
      "cell_type": "code",
      "source": [
        "model = Sequential()\n",
        "\n",
        "model.add(Dense(10,activation='relu',input_dim=2,kernel_initializer='he_normal'))\n",
        "model.add(Dense(10,activation='relu',kernel_initializer='he_normal'))\n",
        "model.add(Dense(10,activation='relu',kernel_initializer='he_normal'))\n",
        "model.add(Dense(10,activation='relu',kernel_initializer='he_normal'))\n",
        "model.add(Dense(1,activation='sigmoid'))\n",
        "\n",
        "model.summary()"
      ],
      "metadata": {
        "colab": {
          "base_uri": "https://localhost:8080/",
          "height": 361
        },
        "id": "i8BxyCgza8jr",
        "outputId": "b9ace13d-e2a7-4026-8cf0-8bc351192bda"
      },
      "execution_count": 7,
      "outputs": [
        {
          "output_type": "stream",
          "name": "stderr",
          "text": [
            "/usr/local/lib/python3.11/dist-packages/keras/src/layers/core/dense.py:87: UserWarning: Do not pass an `input_shape`/`input_dim` argument to a layer. When using Sequential models, prefer using an `Input(shape)` object as the first layer in the model instead.\n",
            "  super().__init__(activity_regularizer=activity_regularizer, **kwargs)\n"
          ]
        },
        {
          "output_type": "display_data",
          "data": {
            "text/plain": [
              "\u001b[1mModel: \"sequential\"\u001b[0m\n"
            ],
            "text/html": [
              "<pre style=\"white-space:pre;overflow-x:auto;line-height:normal;font-family:Menlo,'DejaVu Sans Mono',consolas,'Courier New',monospace\"><span style=\"font-weight: bold\">Model: \"sequential\"</span>\n",
              "</pre>\n"
            ]
          },
          "metadata": {}
        },
        {
          "output_type": "display_data",
          "data": {
            "text/plain": [
              "┏━━━━━━━━━━━━━━━━━━━━━━━━━━━━━━━━━━━━━━┳━━━━━━━━━━━━━━━━━━━━━━━━━━━━━┳━━━━━━━━━━━━━━━━━┓\n",
              "┃\u001b[1m \u001b[0m\u001b[1mLayer (type)                        \u001b[0m\u001b[1m \u001b[0m┃\u001b[1m \u001b[0m\u001b[1mOutput Shape               \u001b[0m\u001b[1m \u001b[0m┃\u001b[1m \u001b[0m\u001b[1m        Param #\u001b[0m\u001b[1m \u001b[0m┃\n",
              "┡━━━━━━━━━━━━━━━━━━━━━━━━━━━━━━━━━━━━━━╇━━━━━━━━━━━━━━━━━━━━━━━━━━━━━╇━━━━━━━━━━━━━━━━━┩\n",
              "│ dense (\u001b[38;5;33mDense\u001b[0m)                        │ (\u001b[38;5;45mNone\u001b[0m, \u001b[38;5;34m10\u001b[0m)                  │              \u001b[38;5;34m30\u001b[0m │\n",
              "├──────────────────────────────────────┼─────────────────────────────┼─────────────────┤\n",
              "│ dense_1 (\u001b[38;5;33mDense\u001b[0m)                      │ (\u001b[38;5;45mNone\u001b[0m, \u001b[38;5;34m10\u001b[0m)                  │             \u001b[38;5;34m110\u001b[0m │\n",
              "├──────────────────────────────────────┼─────────────────────────────┼─────────────────┤\n",
              "│ dense_2 (\u001b[38;5;33mDense\u001b[0m)                      │ (\u001b[38;5;45mNone\u001b[0m, \u001b[38;5;34m10\u001b[0m)                  │             \u001b[38;5;34m110\u001b[0m │\n",
              "├──────────────────────────────────────┼─────────────────────────────┼─────────────────┤\n",
              "│ dense_3 (\u001b[38;5;33mDense\u001b[0m)                      │ (\u001b[38;5;45mNone\u001b[0m, \u001b[38;5;34m10\u001b[0m)                  │             \u001b[38;5;34m110\u001b[0m │\n",
              "├──────────────────────────────────────┼─────────────────────────────┼─────────────────┤\n",
              "│ dense_4 (\u001b[38;5;33mDense\u001b[0m)                      │ (\u001b[38;5;45mNone\u001b[0m, \u001b[38;5;34m1\u001b[0m)                   │              \u001b[38;5;34m11\u001b[0m │\n",
              "└──────────────────────────────────────┴─────────────────────────────┴─────────────────┘\n"
            ],
            "text/html": [
              "<pre style=\"white-space:pre;overflow-x:auto;line-height:normal;font-family:Menlo,'DejaVu Sans Mono',consolas,'Courier New',monospace\">┏━━━━━━━━━━━━━━━━━━━━━━━━━━━━━━━━━━━━━━┳━━━━━━━━━━━━━━━━━━━━━━━━━━━━━┳━━━━━━━━━━━━━━━━━┓\n",
              "┃<span style=\"font-weight: bold\"> Layer (type)                         </span>┃<span style=\"font-weight: bold\"> Output Shape                </span>┃<span style=\"font-weight: bold\">         Param # </span>┃\n",
              "┡━━━━━━━━━━━━━━━━━━━━━━━━━━━━━━━━━━━━━━╇━━━━━━━━━━━━━━━━━━━━━━━━━━━━━╇━━━━━━━━━━━━━━━━━┩\n",
              "│ dense (<span style=\"color: #0087ff; text-decoration-color: #0087ff\">Dense</span>)                        │ (<span style=\"color: #00d7ff; text-decoration-color: #00d7ff\">None</span>, <span style=\"color: #00af00; text-decoration-color: #00af00\">10</span>)                  │              <span style=\"color: #00af00; text-decoration-color: #00af00\">30</span> │\n",
              "├──────────────────────────────────────┼─────────────────────────────┼─────────────────┤\n",
              "│ dense_1 (<span style=\"color: #0087ff; text-decoration-color: #0087ff\">Dense</span>)                      │ (<span style=\"color: #00d7ff; text-decoration-color: #00d7ff\">None</span>, <span style=\"color: #00af00; text-decoration-color: #00af00\">10</span>)                  │             <span style=\"color: #00af00; text-decoration-color: #00af00\">110</span> │\n",
              "├──────────────────────────────────────┼─────────────────────────────┼─────────────────┤\n",
              "│ dense_2 (<span style=\"color: #0087ff; text-decoration-color: #0087ff\">Dense</span>)                      │ (<span style=\"color: #00d7ff; text-decoration-color: #00d7ff\">None</span>, <span style=\"color: #00af00; text-decoration-color: #00af00\">10</span>)                  │             <span style=\"color: #00af00; text-decoration-color: #00af00\">110</span> │\n",
              "├──────────────────────────────────────┼─────────────────────────────┼─────────────────┤\n",
              "│ dense_3 (<span style=\"color: #0087ff; text-decoration-color: #0087ff\">Dense</span>)                      │ (<span style=\"color: #00d7ff; text-decoration-color: #00d7ff\">None</span>, <span style=\"color: #00af00; text-decoration-color: #00af00\">10</span>)                  │             <span style=\"color: #00af00; text-decoration-color: #00af00\">110</span> │\n",
              "├──────────────────────────────────────┼─────────────────────────────┼─────────────────┤\n",
              "│ dense_4 (<span style=\"color: #0087ff; text-decoration-color: #0087ff\">Dense</span>)                      │ (<span style=\"color: #00d7ff; text-decoration-color: #00d7ff\">None</span>, <span style=\"color: #00af00; text-decoration-color: #00af00\">1</span>)                   │              <span style=\"color: #00af00; text-decoration-color: #00af00\">11</span> │\n",
              "└──────────────────────────────────────┴─────────────────────────────┴─────────────────┘\n",
              "</pre>\n"
            ]
          },
          "metadata": {}
        },
        {
          "output_type": "display_data",
          "data": {
            "text/plain": [
              "\u001b[1m Total params: \u001b[0m\u001b[38;5;34m371\u001b[0m (1.45 KB)\n"
            ],
            "text/html": [
              "<pre style=\"white-space:pre;overflow-x:auto;line-height:normal;font-family:Menlo,'DejaVu Sans Mono',consolas,'Courier New',monospace\"><span style=\"font-weight: bold\"> Total params: </span><span style=\"color: #00af00; text-decoration-color: #00af00\">371</span> (1.45 KB)\n",
              "</pre>\n"
            ]
          },
          "metadata": {}
        },
        {
          "output_type": "display_data",
          "data": {
            "text/plain": [
              "\u001b[1m Trainable params: \u001b[0m\u001b[38;5;34m371\u001b[0m (1.45 KB)\n"
            ],
            "text/html": [
              "<pre style=\"white-space:pre;overflow-x:auto;line-height:normal;font-family:Menlo,'DejaVu Sans Mono',consolas,'Courier New',monospace\"><span style=\"font-weight: bold\"> Trainable params: </span><span style=\"color: #00af00; text-decoration-color: #00af00\">371</span> (1.45 KB)\n",
              "</pre>\n"
            ]
          },
          "metadata": {}
        },
        {
          "output_type": "display_data",
          "data": {
            "text/plain": [
              "\u001b[1m Non-trainable params: \u001b[0m\u001b[38;5;34m0\u001b[0m (0.00 B)\n"
            ],
            "text/html": [
              "<pre style=\"white-space:pre;overflow-x:auto;line-height:normal;font-family:Menlo,'DejaVu Sans Mono',consolas,'Courier New',monospace\"><span style=\"font-weight: bold\"> Non-trainable params: </span><span style=\"color: #00af00; text-decoration-color: #00af00\">0</span> (0.00 B)\n",
              "</pre>\n"
            ]
          },
          "metadata": {}
        }
      ]
    },
    {
      "cell_type": "code",
      "source": [
        "model.get_weights()"
      ],
      "metadata": {
        "colab": {
          "base_uri": "https://localhost:8080/"
        },
        "id": "SSl--ed9bBn5",
        "outputId": "60e91bc3-1b59-4147-f106-ae9cf9eb239b"
      },
      "execution_count": 8,
      "outputs": [
        {
          "output_type": "execute_result",
          "data": {
            "text/plain": [
              "[array([[ 0.8369689 ,  1.509076  , -1.4461945 , -0.23933181,  0.8897137 ,\n",
              "          0.9646636 , -0.29848424, -1.4097667 , -0.90116215, -0.8183014 ],\n",
              "        [ 1.1208299 ,  0.8748434 ,  0.37922794, -2.0851452 ,  1.7226564 ,\n",
              "          0.34177506,  0.19386649, -0.7491246 ,  0.35489273,  0.35314476]],\n",
              "       dtype=float32),\n",
              " array([0., 0., 0., 0., 0., 0., 0., 0., 0., 0.], dtype=float32),\n",
              " array([[ 0.14851213, -0.37569344,  0.03562891, -0.7392311 ,  0.20641449,\n",
              "          0.39021668,  0.43052822,  0.1581202 ,  0.2720796 , -0.68365   ],\n",
              "        [ 0.07006045, -0.38818538, -0.03495454,  0.6694765 ,  0.5587636 ,\n",
              "          0.5421767 , -0.24608847, -0.32725257,  0.6691851 ,  1.0088558 ],\n",
              "        [ 0.9094578 , -0.27860585,  0.5018358 ,  0.05820372,  0.03083267,\n",
              "         -0.3498667 ,  0.09961418, -0.18182209, -0.12597564, -0.80059904],\n",
              "        [ 0.02148616, -0.08064658, -0.330892  , -0.72335863,  0.27713335,\n",
              "         -0.20152849,  0.49678054, -0.65114164, -0.69661343,  0.08972004],\n",
              "        [ 0.0407194 ,  0.29592052, -0.1717297 ,  0.04486979,  0.18022133,\n",
              "         -0.18225674,  0.68125355,  0.12310287, -0.37771642, -0.45033836],\n",
              "        [ 0.9657926 , -0.59499127,  0.2568323 , -0.46787366,  0.44406733,\n",
              "         -0.04931752, -0.19748865, -0.41396463,  0.09518088,  0.35735857],\n",
              "        [ 0.02090052,  0.34782082, -0.27907845, -0.288603  ,  0.49761996,\n",
              "          0.5555867 , -0.15755312, -0.27042854,  0.01278283,  0.12608579],\n",
              "        [ 0.553796  , -0.8092237 , -0.6009591 ,  0.02975916,  0.1717555 ,\n",
              "          0.0432903 , -0.21961322,  0.00129477, -0.76907176, -0.5848775 ],\n",
              "        [-0.3678723 ,  0.3980617 , -0.0603889 ,  0.41802672, -0.44563225,\n",
              "         -0.0333894 , -0.1887094 ,  0.9139692 ,  0.8393588 , -0.63349026],\n",
              "        [-0.16686335,  0.11209398, -0.42908216, -0.10783233, -0.5998685 ,\n",
              "          0.30550826,  0.5204484 ,  0.02807144, -0.01531305,  0.57921606]],\n",
              "       dtype=float32),\n",
              " array([0., 0., 0., 0., 0., 0., 0., 0., 0., 0.], dtype=float32),\n",
              " array([[ 0.20390074, -0.21781453,  0.02297044, -0.39447486, -0.39173976,\n",
              "          0.78318256,  0.8614889 ,  0.29510567, -0.8705668 ,  0.01602498],\n",
              "        [ 0.10249728,  0.31479734, -0.278896  ,  0.05118   ,  0.91778487,\n",
              "          0.013991  , -0.0883771 , -0.0371928 ,  0.15873918, -0.4793504 ],\n",
              "        [ 0.3460477 ,  0.7500781 ,  0.10350084, -0.38399556,  0.06794636,\n",
              "         -0.41314375, -0.58029103,  0.06762192, -0.1862456 , -0.14267173],\n",
              "        [-0.18915027, -0.5856838 ,  0.24838704, -0.22936012, -0.31483373,\n",
              "          0.02021387,  0.22615987, -0.06674941,  0.10047985, -0.14612009],\n",
              "        [-0.27149317,  0.7405195 ,  0.20411304,  0.68351847,  0.4231217 ,\n",
              "          0.51248765, -0.3838045 ,  0.0412517 , -0.25858933,  0.31017068],\n",
              "        [-0.7470629 ,  0.04239231,  0.1960556 , -0.21942359, -0.25985175,\n",
              "         -0.10811628, -0.35582402, -0.21402946, -0.18067111,  0.69263166],\n",
              "        [-0.32385048,  0.6112298 , -0.34274504, -0.1293145 ,  0.75991815,\n",
              "         -0.25024408, -0.5419238 , -0.34749407, -0.4375775 , -0.5401182 ],\n",
              "        [ 0.12924242,  0.726193  ,  0.73362136,  0.08169635, -0.90051425,\n",
              "          0.19061218,  0.8582256 , -0.31665653, -0.09693802, -0.33806843],\n",
              "        [-0.09540346, -0.14691076,  0.01852861, -0.37554494,  0.148827  ,\n",
              "         -0.6026837 , -0.39321864, -0.35514027,  0.1920857 ,  0.6314387 ],\n",
              "        [ 0.20985629, -0.10056343,  0.38220966, -0.5389573 ,  0.29024237,\n",
              "         -0.7547811 , -0.7480252 ,  0.1962066 , -0.02740694,  0.06115656]],\n",
              "       dtype=float32),\n",
              " array([0., 0., 0., 0., 0., 0., 0., 0., 0., 0.], dtype=float32),\n",
              " array([[ 0.83913237,  0.40141794,  0.08405454,  0.5461384 , -0.74724984,\n",
              "          0.5849112 ,  0.7849381 ,  0.14396617,  0.5113973 , -0.44359747],\n",
              "        [-0.51192296,  0.33475488,  0.6655666 , -0.0726051 , -0.4529599 ,\n",
              "         -0.1265489 ,  0.789614  , -0.5955311 ,  0.5928998 ,  0.1004323 ],\n",
              "        [ 0.03278339,  0.33522594,  0.25098872,  0.6409735 , -0.56479776,\n",
              "         -0.6803893 ,  0.46095887,  0.55143696,  0.9161439 , -0.02716858],\n",
              "        [-0.1231792 ,  0.12991187, -0.17028968,  0.67635095,  0.33105943,\n",
              "          0.3895508 ,  0.4593949 , -0.61811686,  0.01042548,  0.03650177],\n",
              "        [-0.52517843,  0.2948999 ,  0.594787  ,  0.14573601, -0.4288946 ,\n",
              "         -0.16459325, -0.8266299 , -0.04352553,  0.20489962, -0.78962475],\n",
              "        [-0.23678222,  0.2090541 ,  0.06861923,  0.5815237 , -0.13259642,\n",
              "         -0.05648193, -0.29107788, -0.03130654,  0.63562995, -0.24377945],\n",
              "        [ 0.03375008, -0.5735045 ,  0.1654286 ,  0.43006876,  0.9195996 ,\n",
              "          0.43835682, -0.21362492,  0.18126275, -0.6095352 ,  0.29447478],\n",
              "        [-0.3039208 , -0.34111962, -0.0659493 ,  0.45328507,  0.18466012,\n",
              "          0.6618383 , -0.59056133,  0.33553156, -0.16046393,  0.44155058],\n",
              "        [ 0.40883029, -0.6453292 ,  0.75211006, -0.6125903 , -0.520003  ,\n",
              "          0.00656551, -0.06320146,  0.5907107 ,  0.5917653 , -0.32296795],\n",
              "        [-0.19192062,  0.6794638 ,  0.25921562, -0.28342828,  0.2158432 ,\n",
              "         -0.62533706,  0.5302113 ,  0.35391983,  0.43370613, -0.54703647]],\n",
              "       dtype=float32),\n",
              " array([0., 0., 0., 0., 0., 0., 0., 0., 0., 0.], dtype=float32),\n",
              " array([[-0.481315  ],\n",
              "        [-0.03876346],\n",
              "        [-0.7083296 ],\n",
              "        [-0.17618537],\n",
              "        [ 0.20988607],\n",
              "        [ 0.13638496],\n",
              "        [-0.39329687],\n",
              "        [-0.04737937],\n",
              "        [ 0.37626487],\n",
              "        [ 0.6355116 ]], dtype=float32),\n",
              " array([0.], dtype=float32)]"
            ]
          },
          "metadata": {},
          "execution_count": 8
        }
      ]
    },
    {
      "cell_type": "code",
      "source": [
        "initial_weights = model.get_weights()"
      ],
      "metadata": {
        "id": "0WFCYZYtbHEJ"
      },
      "execution_count": 9,
      "outputs": []
    },
    {
      "cell_type": "code",
      "source": [
        "initial_weights[0] = np.random.randn(2,10)*np.sqrt(1/2)\n",
        "initial_weights[1] = np.zeros(model.get_weights()[1].shape)\n",
        "initial_weights[2] = np.random.randn(10,10)*np.sqrt(1/10)\n",
        "initial_weights[3] = np.zeros(model.get_weights()[3].shape)\n",
        "initial_weights[4] = np.random.randn(10,10)*np.sqrt(1/10)\n",
        "initial_weights[5] = np.zeros(model.get_weights()[5].shape)\n",
        "initial_weights[6] = np.random.randn(10,10)*np.sqrt(1/10)\n",
        "initial_weights[7] = np.zeros(model.get_weights()[7].shape)\n",
        "initial_weights[8] = np.random.randn(10,1)*np.sqrt(1/10)\n",
        "initial_weights[9] = np.zeros(model.get_weights()[9].shape)"
      ],
      "metadata": {
        "id": "IOMOFqLsbKLA"
      },
      "execution_count": 10,
      "outputs": []
    },
    {
      "cell_type": "code",
      "source": [
        "model.set_weights(initial_weights)"
      ],
      "metadata": {
        "id": "FHaWDxu2bNSV"
      },
      "execution_count": 11,
      "outputs": []
    },
    {
      "cell_type": "code",
      "source": [
        "model.get_weights()"
      ],
      "metadata": {
        "colab": {
          "base_uri": "https://localhost:8080/"
        },
        "id": "0ALdCvKAbRUy",
        "outputId": "f3c3552f-3145-4bd9-e668-8e4b41f3d84a"
      },
      "execution_count": 12,
      "outputs": [
        {
          "output_type": "execute_result",
          "data": {
            "text/plain": [
              "[array([[ 0.9739067 , -0.94212514,  0.9226702 , -1.1518627 ,  0.38923085,\n",
              "          0.66459316, -0.63121414, -0.3319518 , -0.7908756 , -0.80205625],\n",
              "        [ 0.4582116 , -0.24089697,  0.00363804,  1.2659942 ,  1.1218784 ,\n",
              "          0.97204953, -0.1193222 ,  0.17072663, -1.2100492 , -0.29604685]],\n",
              "       dtype=float32),\n",
              " array([0., 0., 0., 0., 0., 0., 0., 0., 0., 0.], dtype=float32),\n",
              " array([[-0.27815345, -0.19818108,  0.07254711, -0.1796243 , -0.7978651 ,\n",
              "         -0.5603083 ,  0.18220353,  0.5195473 ,  0.2353401 ,  0.43716332],\n",
              "        [ 0.0066909 , -0.67569566,  0.01131806, -0.802912  , -0.35135862,\n",
              "         -0.34495705, -0.13550183, -0.59442693, -0.08604322, -0.19166577],\n",
              "        [ 0.96453637,  0.24301323,  0.25030655, -0.10928404, -0.02790364,\n",
              "         -0.5104003 ,  0.01346875, -0.13005611, -0.2710808 , -0.1715726 ],\n",
              "        [ 0.12251341,  0.4208899 ,  0.3698088 ,  0.2776987 ,  0.8188309 ,\n",
              "          0.00536909, -0.28647715,  0.17590742,  0.06651311, -0.10132799],\n",
              "        [ 0.09998176,  0.01720398,  0.0668898 , -0.14459191,  0.09109534,\n",
              "          0.58608305,  0.12735376, -0.20106712,  0.08839149,  0.00185664],\n",
              "        [ 0.2960477 ,  0.06672791,  0.2907728 , -0.31203294,  0.0038377 ,\n",
              "          0.3973148 ,  0.1370451 , -0.7282034 , -0.16812257,  0.21623236],\n",
              "        [ 0.02195501, -0.13451956, -0.02878449,  0.06990474,  0.4270555 ,\n",
              "         -0.19439933, -0.03611449,  0.21583657, -0.34889466,  0.04768129],\n",
              "        [ 0.20071268, -0.54417926, -0.8609288 ,  0.11602001, -0.21411546,\n",
              "         -0.44629487, -0.18612519,  0.20749278, -0.24384889,  0.12007155],\n",
              "        [ 0.00868221, -0.02980363,  0.4370867 , -0.01041477, -0.06432009,\n",
              "         -0.32973397, -0.06553374, -0.21184304,  0.20531482,  0.3059238 ],\n",
              "        [ 0.19403836,  0.2078669 , -0.2856144 , -0.3816514 ,  0.05207112,\n",
              "          0.16155367, -0.20284975, -0.23734508,  0.46129236, -0.41413528]],\n",
              "       dtype=float32),\n",
              " array([0., 0., 0., 0., 0., 0., 0., 0., 0., 0.], dtype=float32),\n",
              " array([[-0.11460642, -0.36684313,  0.38152274,  0.34354854, -0.30180588,\n",
              "         -0.82466763,  0.05021875, -0.17455174,  0.00824402,  0.04185033],\n",
              "        [ 0.27268764,  0.2038179 , -0.00317739,  0.17236087,  0.28975758,\n",
              "          0.22843458,  0.3196464 ,  0.485579  , -0.547605  ,  0.18897116],\n",
              "        [ 0.05301048, -0.24358074, -0.11031971,  0.10368035,  0.07011314,\n",
              "         -0.06317955,  0.51977485, -0.04644502,  0.5963586 , -0.09932727],\n",
              "        [-0.37674087,  0.23367018,  0.07795584,  0.48511627,  0.36716613,\n",
              "         -0.05988619,  0.08285469,  0.17614743,  0.04365893,  0.5061568 ],\n",
              "        [ 0.42591536, -0.13069245, -0.4536377 , -0.29720834, -0.05021466,\n",
              "         -0.30279613, -0.6592957 ,  0.36363354, -0.29203764, -0.29252434],\n",
              "        [-0.17402348, -0.27715796, -0.04087175,  0.3799163 , -0.01157641,\n",
              "         -0.44195226,  0.37537837,  0.10458853, -0.29532433, -0.12560238],\n",
              "        [ 0.10242614,  0.414372  ,  0.15759078, -0.21642378, -0.4612311 ,\n",
              "         -0.06571787, -0.10080574,  0.12031517, -0.18909237,  0.22235578],\n",
              "        [ 0.08118784, -0.1427979 ,  0.25897777, -0.0213254 ,  0.05552337,\n",
              "         -0.28108948,  0.502835  , -0.09673327,  0.09374937,  0.05646201],\n",
              "        [ 0.03652125,  0.22860338,  0.28724068,  0.1839719 , -0.26508984,\n",
              "          0.15693073,  0.18374464,  0.4264083 ,  0.09066258,  0.11013481],\n",
              "        [ 0.28446603,  0.13498   , -0.26238376, -0.16223487, -0.5906012 ,\n",
              "          0.04940109,  0.07950155,  0.42003846,  0.35413584, -0.06594529]],\n",
              "       dtype=float32),\n",
              " array([0., 0., 0., 0., 0., 0., 0., 0., 0., 0.], dtype=float32),\n",
              " array([[-0.2599083 ,  0.35375017,  0.0379963 , -0.06315295, -0.14528753,\n",
              "         -0.22147481,  0.88232493,  0.16754106,  0.4245062 , -0.11704741],\n",
              "        [-0.2750851 ,  0.04614929, -0.5137628 , -0.400715  , -0.276854  ,\n",
              "          0.2543274 , -0.31953755,  0.12220427,  0.65968966, -0.07305355],\n",
              "        [-0.1390678 ,  0.04543025,  0.14378542, -0.3994536 ,  0.21236002,\n",
              "         -0.12515138, -0.22899185,  0.26684165,  0.3099907 ,  0.47449628],\n",
              "        [-0.10665025, -0.64123315,  0.25153288, -0.03260145,  0.07635781,\n",
              "         -0.47617587,  0.08582914, -0.36283478, -0.21772157, -0.33892286],\n",
              "        [ 0.15101628,  0.13794969, -0.27858028, -0.11874565, -0.33788073,\n",
              "         -0.38588113, -0.12713575,  0.01097354,  0.57065356, -0.15767191],\n",
              "        [-0.43714842,  0.27811408,  0.02446728, -0.21157904,  0.6177127 ,\n",
              "         -0.01986548, -0.07462081,  0.3176656 ,  0.12646273,  0.22864261],\n",
              "        [ 0.8219468 , -0.4319431 , -0.08007   ,  0.38572425, -0.22578779,\n",
              "          0.30470696,  0.09380212,  0.33435896, -0.4226666 , -0.14269744],\n",
              "        [ 0.02457574, -0.05471452, -0.55504584,  0.17433749,  0.788776  ,\n",
              "         -0.23183024, -0.2628232 , -0.6002975 , -0.24254179,  0.06948228],\n",
              "        [ 0.68464136, -0.38668966,  0.22854596,  0.19583938, -0.09543881,\n",
              "          0.15010868,  0.8425854 ,  0.290308  , -0.30505505, -0.33853495],\n",
              "        [ 0.35043308, -0.20791075, -0.18606979,  0.17979865, -0.1348425 ,\n",
              "          0.20440263,  0.53582674, -0.05733019,  0.21987201,  0.05920452]],\n",
              "       dtype=float32),\n",
              " array([0., 0., 0., 0., 0., 0., 0., 0., 0., 0.], dtype=float32),\n",
              " array([[-0.13822001],\n",
              "        [ 0.2818191 ],\n",
              "        [ 0.53852713],\n",
              "        [-0.15225357],\n",
              "        [-0.3741731 ],\n",
              "        [-0.01266123],\n",
              "        [-0.11677641],\n",
              "        [ 0.18919085],\n",
              "        [ 0.28105637],\n",
              "        [-0.09029477]], dtype=float32),\n",
              " array([0.], dtype=float32)]"
            ]
          },
          "metadata": {},
          "execution_count": 12
        }
      ]
    },
    {
      "cell_type": "code",
      "source": [
        "model.compile(loss='binary_crossentropy',optimizer='adam',metrics=['accuracy'])"
      ],
      "metadata": {
        "id": "ZegdarWBbYET"
      },
      "execution_count": 13,
      "outputs": []
    },
    {
      "cell_type": "code",
      "source": [
        "history = model.fit(X,y,epochs=100,validation_split=0.2)"
      ],
      "metadata": {
        "colab": {
          "base_uri": "https://localhost:8080/"
        },
        "id": "NxjqttSgbb1T",
        "outputId": "be885ff3-cb93-4ec5-a208-077c8b96d39a"
      },
      "execution_count": 14,
      "outputs": [
        {
          "output_type": "stream",
          "name": "stdout",
          "text": [
            "Epoch 1/100\n",
            "\u001b[1m3/3\u001b[0m \u001b[32m━━━━━━━━━━━━━━━━━━━━\u001b[0m\u001b[37m\u001b[0m \u001b[1m4s\u001b[0m 574ms/step - accuracy: 0.6406 - loss: 0.6666 - val_accuracy: 0.6500 - val_loss: 0.6664\n",
            "Epoch 2/100\n",
            "\u001b[1m3/3\u001b[0m \u001b[32m━━━━━━━━━━━━━━━━━━━━\u001b[0m\u001b[37m\u001b[0m \u001b[1m0s\u001b[0m 31ms/step - accuracy: 0.7273 - loss: 0.6675 - val_accuracy: 0.8000 - val_loss: 0.6598\n",
            "Epoch 3/100\n",
            "\u001b[1m3/3\u001b[0m \u001b[32m━━━━━━━━━━━━━━━━━━━━\u001b[0m\u001b[37m\u001b[0m \u001b[1m0s\u001b[0m 27ms/step - accuracy: 0.7555 - loss: 0.6625 - val_accuracy: 0.8500 - val_loss: 0.6538\n",
            "Epoch 4/100\n",
            "\u001b[1m3/3\u001b[0m \u001b[32m━━━━━━━━━━━━━━━━━━━━\u001b[0m\u001b[37m\u001b[0m \u001b[1m0s\u001b[0m 27ms/step - accuracy: 0.7703 - loss: 0.6562 - val_accuracy: 0.8500 - val_loss: 0.6480\n",
            "Epoch 5/100\n",
            "\u001b[1m3/3\u001b[0m \u001b[32m━━━━━━━━━━━━━━━━━━━━\u001b[0m\u001b[37m\u001b[0m \u001b[1m0s\u001b[0m 27ms/step - accuracy: 0.8062 - loss: 0.6501 - val_accuracy: 0.8000 - val_loss: 0.6428\n",
            "Epoch 6/100\n",
            "\u001b[1m3/3\u001b[0m \u001b[32m━━━━━━━━━━━━━━━━━━━━\u001b[0m\u001b[37m\u001b[0m \u001b[1m0s\u001b[0m 55ms/step - accuracy: 0.7852 - loss: 0.6506 - val_accuracy: 0.8500 - val_loss: 0.6377\n",
            "Epoch 7/100\n",
            "\u001b[1m3/3\u001b[0m \u001b[32m━━━━━━━━━━━━━━━━━━━━\u001b[0m\u001b[37m\u001b[0m \u001b[1m0s\u001b[0m 28ms/step - accuracy: 0.8539 - loss: 0.6394 - val_accuracy: 0.8500 - val_loss: 0.6323\n",
            "Epoch 8/100\n",
            "\u001b[1m3/3\u001b[0m \u001b[32m━━━━━━━━━━━━━━━━━━━━\u001b[0m\u001b[37m\u001b[0m \u001b[1m0s\u001b[0m 27ms/step - accuracy: 0.8047 - loss: 0.6399 - val_accuracy: 0.9000 - val_loss: 0.6272\n",
            "Epoch 9/100\n",
            "\u001b[1m3/3\u001b[0m \u001b[32m━━━━━━━━━━━━━━━━━━━━\u001b[0m\u001b[37m\u001b[0m \u001b[1m0s\u001b[0m 29ms/step - accuracy: 0.8164 - loss: 0.6342 - val_accuracy: 0.9000 - val_loss: 0.6222\n",
            "Epoch 10/100\n",
            "\u001b[1m3/3\u001b[0m \u001b[32m━━━━━━━━━━━━━━━━━━━━\u001b[0m\u001b[37m\u001b[0m \u001b[1m0s\u001b[0m 28ms/step - accuracy: 0.7969 - loss: 0.6348 - val_accuracy: 0.9000 - val_loss: 0.6169\n",
            "Epoch 11/100\n",
            "\u001b[1m3/3\u001b[0m \u001b[32m━━━━━━━━━━━━━━━━━━━━\u001b[0m\u001b[37m\u001b[0m \u001b[1m0s\u001b[0m 27ms/step - accuracy: 0.8359 - loss: 0.6204 - val_accuracy: 0.9000 - val_loss: 0.6114\n",
            "Epoch 12/100\n",
            "\u001b[1m3/3\u001b[0m \u001b[32m━━━━━━━━━━━━━━━━━━━━\u001b[0m\u001b[37m\u001b[0m \u001b[1m0s\u001b[0m 29ms/step - accuracy: 0.8398 - loss: 0.6252 - val_accuracy: 0.8500 - val_loss: 0.6055\n",
            "Epoch 13/100\n",
            "\u001b[1m3/3\u001b[0m \u001b[32m━━━━━━━━━━━━━━━━━━━━\u001b[0m\u001b[37m\u001b[0m \u001b[1m0s\u001b[0m 28ms/step - accuracy: 0.8008 - loss: 0.6258 - val_accuracy: 0.8500 - val_loss: 0.5996\n",
            "Epoch 14/100\n",
            "\u001b[1m3/3\u001b[0m \u001b[32m━━━━━━━━━━━━━━━━━━━━\u001b[0m\u001b[37m\u001b[0m \u001b[1m0s\u001b[0m 30ms/step - accuracy: 0.7930 - loss: 0.6162 - val_accuracy: 0.8500 - val_loss: 0.5932\n",
            "Epoch 15/100\n",
            "\u001b[1m3/3\u001b[0m \u001b[32m━━━━━━━━━━━━━━━━━━━━\u001b[0m\u001b[37m\u001b[0m \u001b[1m0s\u001b[0m 30ms/step - accuracy: 0.8125 - loss: 0.6097 - val_accuracy: 0.8500 - val_loss: 0.5867\n",
            "Epoch 16/100\n",
            "\u001b[1m3/3\u001b[0m \u001b[32m━━━━━━━━━━━━━━━━━━━━\u001b[0m\u001b[37m\u001b[0m \u001b[1m0s\u001b[0m 36ms/step - accuracy: 0.7969 - loss: 0.6101 - val_accuracy: 0.8500 - val_loss: 0.5800\n",
            "Epoch 17/100\n",
            "\u001b[1m3/3\u001b[0m \u001b[32m━━━━━━━━━━━━━━━━━━━━\u001b[0m\u001b[37m\u001b[0m \u001b[1m0s\u001b[0m 30ms/step - accuracy: 0.8164 - loss: 0.6036 - val_accuracy: 0.8500 - val_loss: 0.5731\n",
            "Epoch 18/100\n",
            "\u001b[1m3/3\u001b[0m \u001b[32m━━━━━━━━━━━━━━━━━━━━\u001b[0m\u001b[37m\u001b[0m \u001b[1m0s\u001b[0m 32ms/step - accuracy: 0.8047 - loss: 0.5985 - val_accuracy: 0.8500 - val_loss: 0.5663\n",
            "Epoch 19/100\n",
            "\u001b[1m3/3\u001b[0m \u001b[32m━━━━━━━━━━━━━━━━━━━━\u001b[0m\u001b[37m\u001b[0m \u001b[1m0s\u001b[0m 30ms/step - accuracy: 0.8086 - loss: 0.5906 - val_accuracy: 0.8500 - val_loss: 0.5589\n",
            "Epoch 20/100\n",
            "\u001b[1m3/3\u001b[0m \u001b[32m━━━━━━━━━━━━━━━━━━━━\u001b[0m\u001b[37m\u001b[0m \u001b[1m0s\u001b[0m 28ms/step - accuracy: 0.7969 - loss: 0.5920 - val_accuracy: 0.8500 - val_loss: 0.5513\n",
            "Epoch 21/100\n",
            "\u001b[1m3/3\u001b[0m \u001b[32m━━━━━━━━━━━━━━━━━━━━\u001b[0m\u001b[37m\u001b[0m \u001b[1m0s\u001b[0m 29ms/step - accuracy: 0.8281 - loss: 0.5699 - val_accuracy: 0.8500 - val_loss: 0.5434\n",
            "Epoch 22/100\n",
            "\u001b[1m3/3\u001b[0m \u001b[32m━━━━━━━━━━━━━━━━━━━━\u001b[0m\u001b[37m\u001b[0m \u001b[1m0s\u001b[0m 30ms/step - accuracy: 0.8164 - loss: 0.5691 - val_accuracy: 0.8500 - val_loss: 0.5356\n",
            "Epoch 23/100\n",
            "\u001b[1m3/3\u001b[0m \u001b[32m━━━━━━━━━━━━━━━━━━━━\u001b[0m\u001b[37m\u001b[0m \u001b[1m0s\u001b[0m 28ms/step - accuracy: 0.8086 - loss: 0.5679 - val_accuracy: 0.9000 - val_loss: 0.5281\n",
            "Epoch 24/100\n",
            "\u001b[1m3/3\u001b[0m \u001b[32m━━━━━━━━━━━━━━━━━━━━\u001b[0m\u001b[37m\u001b[0m \u001b[1m0s\u001b[0m 28ms/step - accuracy: 0.8383 - loss: 0.5468 - val_accuracy: 0.9000 - val_loss: 0.5202\n",
            "Epoch 25/100\n",
            "\u001b[1m3/3\u001b[0m \u001b[32m━━━━━━━━━━━━━━━━━━━━\u001b[0m\u001b[37m\u001b[0m \u001b[1m0s\u001b[0m 35ms/step - accuracy: 0.8211 - loss: 0.5554 - val_accuracy: 0.9000 - val_loss: 0.5121\n",
            "Epoch 26/100\n",
            "\u001b[1m3/3\u001b[0m \u001b[32m━━━━━━━━━━━━━━━━━━━━\u001b[0m\u001b[37m\u001b[0m \u001b[1m0s\u001b[0m 28ms/step - accuracy: 0.8344 - loss: 0.5415 - val_accuracy: 0.9000 - val_loss: 0.5034\n",
            "Epoch 27/100\n",
            "\u001b[1m3/3\u001b[0m \u001b[32m━━━━━━━━━━━━━━━━━━━━\u001b[0m\u001b[37m\u001b[0m \u001b[1m0s\u001b[0m 29ms/step - accuracy: 0.8070 - loss: 0.5429 - val_accuracy: 0.9000 - val_loss: 0.4952\n",
            "Epoch 28/100\n",
            "\u001b[1m3/3\u001b[0m \u001b[32m━━━━━━━━━━━━━━━━━━━━\u001b[0m\u001b[37m\u001b[0m \u001b[1m0s\u001b[0m 32ms/step - accuracy: 0.8422 - loss: 0.5290 - val_accuracy: 0.9000 - val_loss: 0.4864\n",
            "Epoch 29/100\n",
            "\u001b[1m3/3\u001b[0m \u001b[32m━━━━━━━━━━━━━━━━━━━━\u001b[0m\u001b[37m\u001b[0m \u001b[1m0s\u001b[0m 28ms/step - accuracy: 0.8203 - loss: 0.5243 - val_accuracy: 0.8500 - val_loss: 0.4779\n",
            "Epoch 30/100\n",
            "\u001b[1m3/3\u001b[0m \u001b[32m━━━━━━━━━━━━━━━━━━━━\u001b[0m\u001b[37m\u001b[0m \u001b[1m0s\u001b[0m 32ms/step - accuracy: 0.8125 - loss: 0.5228 - val_accuracy: 0.8500 - val_loss: 0.4696\n",
            "Epoch 31/100\n",
            "\u001b[1m3/3\u001b[0m \u001b[32m━━━━━━━━━━━━━━━━━━━━\u001b[0m\u001b[37m\u001b[0m \u001b[1m0s\u001b[0m 31ms/step - accuracy: 0.8242 - loss: 0.5238 - val_accuracy: 0.9000 - val_loss: 0.4618\n",
            "Epoch 32/100\n",
            "\u001b[1m3/3\u001b[0m \u001b[32m━━━━━━━━━━━━━━━━━━━━\u001b[0m\u001b[37m\u001b[0m \u001b[1m0s\u001b[0m 31ms/step - accuracy: 0.8320 - loss: 0.5022 - val_accuracy: 0.9000 - val_loss: 0.4539\n",
            "Epoch 33/100\n",
            "\u001b[1m3/3\u001b[0m \u001b[32m━━━━━━━━━━━━━━━━━━━━\u001b[0m\u001b[37m\u001b[0m \u001b[1m0s\u001b[0m 37ms/step - accuracy: 0.8422 - loss: 0.4906 - val_accuracy: 0.9000 - val_loss: 0.4456\n",
            "Epoch 34/100\n",
            "\u001b[1m3/3\u001b[0m \u001b[32m━━━━━━━━━━━━━━━━━━━━\u001b[0m\u001b[37m\u001b[0m \u001b[1m0s\u001b[0m 30ms/step - accuracy: 0.7930 - loss: 0.4897 - val_accuracy: 0.9000 - val_loss: 0.4371\n",
            "Epoch 35/100\n",
            "\u001b[1m3/3\u001b[0m \u001b[32m━━━━━━━━━━━━━━━━━━━━\u001b[0m\u001b[37m\u001b[0m \u001b[1m0s\u001b[0m 29ms/step - accuracy: 0.7852 - loss: 0.5057 - val_accuracy: 0.9000 - val_loss: 0.4288\n",
            "Epoch 36/100\n",
            "\u001b[1m3/3\u001b[0m \u001b[32m━━━━━━━━━━━━━━━━━━━━\u001b[0m\u001b[37m\u001b[0m \u001b[1m0s\u001b[0m 28ms/step - accuracy: 0.8008 - loss: 0.4937 - val_accuracy: 0.9000 - val_loss: 0.4200\n",
            "Epoch 37/100\n",
            "\u001b[1m3/3\u001b[0m \u001b[32m━━━━━━━━━━━━━━━━━━━━\u001b[0m\u001b[37m\u001b[0m \u001b[1m0s\u001b[0m 27ms/step - accuracy: 0.8125 - loss: 0.4788 - val_accuracy: 0.9000 - val_loss: 0.4110\n",
            "Epoch 38/100\n",
            "\u001b[1m3/3\u001b[0m \u001b[32m━━━━━━━━━━━━━━━━━━━━\u001b[0m\u001b[37m\u001b[0m \u001b[1m0s\u001b[0m 29ms/step - accuracy: 0.8281 - loss: 0.4620 - val_accuracy: 0.8500 - val_loss: 0.4018\n",
            "Epoch 39/100\n",
            "\u001b[1m3/3\u001b[0m \u001b[32m━━━━━━━━━━━━━━━━━━━━\u001b[0m\u001b[37m\u001b[0m \u001b[1m0s\u001b[0m 31ms/step - accuracy: 0.7891 - loss: 0.4736 - val_accuracy: 0.9000 - val_loss: 0.3932\n",
            "Epoch 40/100\n",
            "\u001b[1m3/3\u001b[0m \u001b[32m━━━━━━━━━━━━━━━━━━━━\u001b[0m\u001b[37m\u001b[0m \u001b[1m0s\u001b[0m 27ms/step - accuracy: 0.8242 - loss: 0.4453 - val_accuracy: 0.8500 - val_loss: 0.3848\n",
            "Epoch 41/100\n",
            "\u001b[1m3/3\u001b[0m \u001b[32m━━━━━━━━━━━━━━━━━━━━\u001b[0m\u001b[37m\u001b[0m \u001b[1m0s\u001b[0m 33ms/step - accuracy: 0.8086 - loss: 0.4615 - val_accuracy: 0.8500 - val_loss: 0.3768\n",
            "Epoch 42/100\n",
            "\u001b[1m3/3\u001b[0m \u001b[32m━━━━━━━━━━━━━━━━━━━━\u001b[0m\u001b[37m\u001b[0m \u001b[1m0s\u001b[0m 32ms/step - accuracy: 0.7906 - loss: 0.4471 - val_accuracy: 0.8500 - val_loss: 0.3691\n",
            "Epoch 43/100\n",
            "\u001b[1m3/3\u001b[0m \u001b[32m━━━━━━━━━━━━━━━━━━━━\u001b[0m\u001b[37m\u001b[0m \u001b[1m0s\u001b[0m 27ms/step - accuracy: 0.7945 - loss: 0.4369 - val_accuracy: 0.8500 - val_loss: 0.3618\n",
            "Epoch 44/100\n",
            "\u001b[1m3/3\u001b[0m \u001b[32m━━━━━━━━━━━━━━━━━━━━\u001b[0m\u001b[37m\u001b[0m \u001b[1m0s\u001b[0m 29ms/step - accuracy: 0.8008 - loss: 0.4343 - val_accuracy: 0.8500 - val_loss: 0.3548\n",
            "Epoch 45/100\n",
            "\u001b[1m3/3\u001b[0m \u001b[32m━━━━━━━━━━━━━━━━━━━━\u001b[0m\u001b[37m\u001b[0m \u001b[1m0s\u001b[0m 27ms/step - accuracy: 0.8242 - loss: 0.4216 - val_accuracy: 0.8500 - val_loss: 0.3482\n",
            "Epoch 46/100\n",
            "\u001b[1m3/3\u001b[0m \u001b[32m━━━━━━━━━━━━━━━━━━━━\u001b[0m\u001b[37m\u001b[0m \u001b[1m0s\u001b[0m 31ms/step - accuracy: 0.8281 - loss: 0.4079 - val_accuracy: 0.8500 - val_loss: 0.3427\n",
            "Epoch 47/100\n",
            "\u001b[1m3/3\u001b[0m \u001b[32m━━━━━━━━━━━━━━━━━━━━\u001b[0m\u001b[37m\u001b[0m \u001b[1m0s\u001b[0m 31ms/step - accuracy: 0.8438 - loss: 0.3927 - val_accuracy: 0.8500 - val_loss: 0.3373\n",
            "Epoch 48/100\n",
            "\u001b[1m3/3\u001b[0m \u001b[32m━━━━━━━━━━━━━━━━━━━━\u001b[0m\u001b[37m\u001b[0m \u001b[1m0s\u001b[0m 35ms/step - accuracy: 0.7930 - loss: 0.4373 - val_accuracy: 0.8500 - val_loss: 0.3328\n",
            "Epoch 49/100\n",
            "\u001b[1m3/3\u001b[0m \u001b[32m━━━━━━━━━━━━━━━━━━━━\u001b[0m\u001b[37m\u001b[0m \u001b[1m0s\u001b[0m 27ms/step - accuracy: 0.8031 - loss: 0.4340 - val_accuracy: 0.9000 - val_loss: 0.3285\n",
            "Epoch 50/100\n",
            "\u001b[1m3/3\u001b[0m \u001b[32m━━━━━━━━━━━━━━━━━━━━\u001b[0m\u001b[37m\u001b[0m \u001b[1m0s\u001b[0m 27ms/step - accuracy: 0.8070 - loss: 0.4423 - val_accuracy: 0.9000 - val_loss: 0.3236\n",
            "Epoch 51/100\n",
            "\u001b[1m3/3\u001b[0m \u001b[32m━━━━━━━━━━━━━━━━━━━━\u001b[0m\u001b[37m\u001b[0m \u001b[1m0s\u001b[0m 37ms/step - accuracy: 0.8344 - loss: 0.4028 - val_accuracy: 0.9000 - val_loss: 0.3184\n",
            "Epoch 52/100\n",
            "\u001b[1m3/3\u001b[0m \u001b[32m━━━━━━━━━━━━━━━━━━━━\u001b[0m\u001b[37m\u001b[0m \u001b[1m0s\u001b[0m 35ms/step - accuracy: 0.8047 - loss: 0.4383 - val_accuracy: 0.9000 - val_loss: 0.3138\n",
            "Epoch 53/100\n",
            "\u001b[1m3/3\u001b[0m \u001b[32m━━━━━━━━━━━━━━━━━━━━\u001b[0m\u001b[37m\u001b[0m \u001b[1m0s\u001b[0m 27ms/step - accuracy: 0.7891 - loss: 0.4146 - val_accuracy: 0.9000 - val_loss: 0.3093\n",
            "Epoch 54/100\n",
            "\u001b[1m3/3\u001b[0m \u001b[32m━━━━━━━━━━━━━━━━━━━━\u001b[0m\u001b[37m\u001b[0m \u001b[1m0s\u001b[0m 28ms/step - accuracy: 0.8242 - loss: 0.3876 - val_accuracy: 0.9000 - val_loss: 0.3052\n",
            "Epoch 55/100\n",
            "\u001b[1m3/3\u001b[0m \u001b[32m━━━━━━━━━━━━━━━━━━━━\u001b[0m\u001b[37m\u001b[0m \u001b[1m0s\u001b[0m 30ms/step - accuracy: 0.8227 - loss: 0.4044 - val_accuracy: 0.9000 - val_loss: 0.3019\n",
            "Epoch 56/100\n",
            "\u001b[1m3/3\u001b[0m \u001b[32m━━━━━━━━━━━━━━━━━━━━\u001b[0m\u001b[37m\u001b[0m \u001b[1m0s\u001b[0m 31ms/step - accuracy: 0.8211 - loss: 0.4357 - val_accuracy: 0.9000 - val_loss: 0.2991\n",
            "Epoch 57/100\n",
            "\u001b[1m3/3\u001b[0m \u001b[32m━━━━━━━━━━━━━━━━━━━━\u001b[0m\u001b[37m\u001b[0m \u001b[1m0s\u001b[0m 27ms/step - accuracy: 0.8625 - loss: 0.3826 - val_accuracy: 0.9000 - val_loss: 0.2957\n",
            "Epoch 58/100\n",
            "\u001b[1m3/3\u001b[0m \u001b[32m━━━━━━━━━━━━━━━━━━━━\u001b[0m\u001b[37m\u001b[0m \u001b[1m0s\u001b[0m 28ms/step - accuracy: 0.8508 - loss: 0.3864 - val_accuracy: 0.9000 - val_loss: 0.2925\n",
            "Epoch 59/100\n",
            "\u001b[1m3/3\u001b[0m \u001b[32m━━━━━━━━━━━━━━━━━━━━\u001b[0m\u001b[37m\u001b[0m \u001b[1m0s\u001b[0m 34ms/step - accuracy: 0.8625 - loss: 0.3926 - val_accuracy: 0.9000 - val_loss: 0.2897\n",
            "Epoch 60/100\n",
            "\u001b[1m3/3\u001b[0m \u001b[32m━━━━━━━━━━━━━━━━━━━━\u001b[0m\u001b[37m\u001b[0m \u001b[1m0s\u001b[0m 29ms/step - accuracy: 0.8391 - loss: 0.3905 - val_accuracy: 0.9000 - val_loss: 0.2869\n",
            "Epoch 61/100\n",
            "\u001b[1m3/3\u001b[0m \u001b[32m━━━━━━━━━━━━━━━━━━━━\u001b[0m\u001b[37m\u001b[0m \u001b[1m0s\u001b[0m 27ms/step - accuracy: 0.8352 - loss: 0.3937 - val_accuracy: 0.9000 - val_loss: 0.2836\n",
            "Epoch 62/100\n",
            "\u001b[1m3/3\u001b[0m \u001b[32m━━━━━━━━━━━━━━━━━━━━\u001b[0m\u001b[37m\u001b[0m \u001b[1m0s\u001b[0m 29ms/step - accuracy: 0.8664 - loss: 0.3486 - val_accuracy: 0.9000 - val_loss: 0.2802\n",
            "Epoch 63/100\n",
            "\u001b[1m3/3\u001b[0m \u001b[32m━━━━━━━━━━━━━━━━━━━━\u001b[0m\u001b[37m\u001b[0m \u001b[1m0s\u001b[0m 27ms/step - accuracy: 0.8625 - loss: 0.3565 - val_accuracy: 0.9000 - val_loss: 0.2772\n",
            "Epoch 64/100\n",
            "\u001b[1m3/3\u001b[0m \u001b[32m━━━━━━━━━━━━━━━━━━━━\u001b[0m\u001b[37m\u001b[0m \u001b[1m0s\u001b[0m 30ms/step - accuracy: 0.8250 - loss: 0.3908 - val_accuracy: 0.9000 - val_loss: 0.2747\n",
            "Epoch 65/100\n",
            "\u001b[1m3/3\u001b[0m \u001b[32m━━━━━━━━━━━━━━━━━━━━\u001b[0m\u001b[37m\u001b[0m \u001b[1m0s\u001b[0m 30ms/step - accuracy: 0.8156 - loss: 0.4102 - val_accuracy: 0.9000 - val_loss: 0.2720\n",
            "Epoch 66/100\n",
            "\u001b[1m3/3\u001b[0m \u001b[32m━━━━━━━━━━━━━━━━━━━━\u001b[0m\u001b[37m\u001b[0m \u001b[1m0s\u001b[0m 58ms/step - accuracy: 0.8352 - loss: 0.3937 - val_accuracy: 0.9000 - val_loss: 0.2687\n",
            "Epoch 67/100\n",
            "\u001b[1m3/3\u001b[0m \u001b[32m━━━━━━━━━━━━━━━━━━━━\u001b[0m\u001b[37m\u001b[0m \u001b[1m0s\u001b[0m 61ms/step - accuracy: 0.8430 - loss: 0.3861 - val_accuracy: 0.9000 - val_loss: 0.2650\n",
            "Epoch 68/100\n",
            "\u001b[1m3/3\u001b[0m \u001b[32m━━━━━━━━━━━━━━━━━━━━\u001b[0m\u001b[37m\u001b[0m \u001b[1m0s\u001b[0m 59ms/step - accuracy: 0.8586 - loss: 0.3735 - val_accuracy: 0.9000 - val_loss: 0.2623\n",
            "Epoch 69/100\n",
            "\u001b[1m3/3\u001b[0m \u001b[32m━━━━━━━━━━━━━━━━━━━━\u001b[0m\u001b[37m\u001b[0m \u001b[1m0s\u001b[0m 40ms/step - accuracy: 0.8352 - loss: 0.3813 - val_accuracy: 0.9000 - val_loss: 0.2601\n",
            "Epoch 70/100\n",
            "\u001b[1m3/3\u001b[0m \u001b[32m━━━━━━━━━━━━━━━━━━━━\u001b[0m\u001b[37m\u001b[0m \u001b[1m0s\u001b[0m 39ms/step - accuracy: 0.8547 - loss: 0.3508 - val_accuracy: 0.9000 - val_loss: 0.2567\n",
            "Epoch 71/100\n",
            "\u001b[1m3/3\u001b[0m \u001b[32m━━━━━━━━━━━━━━━━━━━━\u001b[0m\u001b[37m\u001b[0m \u001b[1m0s\u001b[0m 46ms/step - accuracy: 0.8352 - loss: 0.3818 - val_accuracy: 0.9000 - val_loss: 0.2537\n",
            "Epoch 72/100\n",
            "\u001b[1m3/3\u001b[0m \u001b[32m━━━━━━━━━━━━━━━━━━━━\u001b[0m\u001b[37m\u001b[0m \u001b[1m0s\u001b[0m 47ms/step - accuracy: 0.8414 - loss: 0.4129 - val_accuracy: 0.9000 - val_loss: 0.2512\n",
            "Epoch 73/100\n",
            "\u001b[1m3/3\u001b[0m \u001b[32m━━━━━━━━━━━━━━━━━━━━\u001b[0m\u001b[37m\u001b[0m \u001b[1m0s\u001b[0m 43ms/step - accuracy: 0.8609 - loss: 0.3663 - val_accuracy: 0.9000 - val_loss: 0.2480\n",
            "Epoch 74/100\n",
            "\u001b[1m3/3\u001b[0m \u001b[32m━━━━━━━━━━━━━━━━━━━━\u001b[0m\u001b[37m\u001b[0m \u001b[1m0s\u001b[0m 42ms/step - accuracy: 0.8883 - loss: 0.3265 - val_accuracy: 0.9000 - val_loss: 0.2452\n",
            "Epoch 75/100\n",
            "\u001b[1m3/3\u001b[0m \u001b[32m━━━━━━━━━━━━━━━━━━━━\u001b[0m\u001b[37m\u001b[0m \u001b[1m0s\u001b[0m 63ms/step - accuracy: 0.8570 - loss: 0.3669 - val_accuracy: 0.9000 - val_loss: 0.2431\n",
            "Epoch 76/100\n",
            "\u001b[1m3/3\u001b[0m \u001b[32m━━━━━━━━━━━━━━━━━━━━\u001b[0m\u001b[37m\u001b[0m \u001b[1m0s\u001b[0m 59ms/step - accuracy: 0.8727 - loss: 0.3403 - val_accuracy: 0.9000 - val_loss: 0.2412\n",
            "Epoch 77/100\n",
            "\u001b[1m3/3\u001b[0m \u001b[32m━━━━━━━━━━━━━━━━━━━━\u001b[0m\u001b[37m\u001b[0m \u001b[1m0s\u001b[0m 38ms/step - accuracy: 0.8414 - loss: 0.3701 - val_accuracy: 0.9000 - val_loss: 0.2402\n",
            "Epoch 78/100\n",
            "\u001b[1m3/3\u001b[0m \u001b[32m━━━━━━━━━━━━━━━━━━━━\u001b[0m\u001b[37m\u001b[0m \u001b[1m0s\u001b[0m 30ms/step - accuracy: 0.8609 - loss: 0.3563 - val_accuracy: 0.9000 - val_loss: 0.2389\n",
            "Epoch 79/100\n",
            "\u001b[1m3/3\u001b[0m \u001b[32m━━━━━━━━━━━━━━━━━━━━\u001b[0m\u001b[37m\u001b[0m \u001b[1m0s\u001b[0m 28ms/step - accuracy: 0.8687 - loss: 0.3400 - val_accuracy: 0.9000 - val_loss: 0.2374\n",
            "Epoch 80/100\n",
            "\u001b[1m3/3\u001b[0m \u001b[32m━━━━━━━━━━━━━━━━━━━━\u001b[0m\u001b[37m\u001b[0m \u001b[1m0s\u001b[0m 28ms/step - accuracy: 0.8570 - loss: 0.3639 - val_accuracy: 0.9000 - val_loss: 0.2368\n",
            "Epoch 81/100\n",
            "\u001b[1m3/3\u001b[0m \u001b[32m━━━━━━━━━━━━━━━━━━━━\u001b[0m\u001b[37m\u001b[0m \u001b[1m0s\u001b[0m 27ms/step - accuracy: 0.8336 - loss: 0.3756 - val_accuracy: 0.9000 - val_loss: 0.2358\n",
            "Epoch 82/100\n",
            "\u001b[1m3/3\u001b[0m \u001b[32m━━━━━━━━━━━━━━━━━━━━\u001b[0m\u001b[37m\u001b[0m \u001b[1m0s\u001b[0m 29ms/step - accuracy: 0.8727 - loss: 0.3509 - val_accuracy: 0.9000 - val_loss: 0.2341\n",
            "Epoch 83/100\n",
            "\u001b[1m3/3\u001b[0m \u001b[32m━━━━━━━━━━━━━━━━━━━━\u001b[0m\u001b[37m\u001b[0m \u001b[1m0s\u001b[0m 30ms/step - accuracy: 0.8961 - loss: 0.3118 - val_accuracy: 0.8500 - val_loss: 0.2326\n",
            "Epoch 84/100\n",
            "\u001b[1m3/3\u001b[0m \u001b[32m━━━━━━━━━━━━━━━━━━━━\u001b[0m\u001b[37m\u001b[0m \u001b[1m0s\u001b[0m 28ms/step - accuracy: 0.8570 - loss: 0.3485 - val_accuracy: 0.8500 - val_loss: 0.2319\n",
            "Epoch 85/100\n",
            "\u001b[1m3/3\u001b[0m \u001b[32m━━━━━━━━━━━━━━━━━━━━\u001b[0m\u001b[37m\u001b[0m \u001b[1m0s\u001b[0m 31ms/step - accuracy: 0.8687 - loss: 0.3414 - val_accuracy: 0.8500 - val_loss: 0.2315\n",
            "Epoch 86/100\n",
            "\u001b[1m3/3\u001b[0m \u001b[32m━━━━━━━━━━━━━━━━━━━━\u001b[0m\u001b[37m\u001b[0m \u001b[1m0s\u001b[0m 34ms/step - accuracy: 0.8648 - loss: 0.3420 - val_accuracy: 0.9000 - val_loss: 0.2318\n",
            "Epoch 87/100\n",
            "\u001b[1m3/3\u001b[0m \u001b[32m━━━━━━━━━━━━━━━━━━━━\u001b[0m\u001b[37m\u001b[0m \u001b[1m0s\u001b[0m 27ms/step - accuracy: 0.8297 - loss: 0.3890 - val_accuracy: 0.9000 - val_loss: 0.2301\n",
            "Epoch 88/100\n",
            "\u001b[1m3/3\u001b[0m \u001b[32m━━━━━━━━━━━━━━━━━━━━\u001b[0m\u001b[37m\u001b[0m \u001b[1m0s\u001b[0m 31ms/step - accuracy: 0.8414 - loss: 0.3782 - val_accuracy: 0.9000 - val_loss: 0.2284\n",
            "Epoch 89/100\n",
            "\u001b[1m3/3\u001b[0m \u001b[32m━━━━━━━━━━━━━━━━━━━━\u001b[0m\u001b[37m\u001b[0m \u001b[1m0s\u001b[0m 27ms/step - accuracy: 0.8750 - loss: 0.3541 - val_accuracy: 0.9000 - val_loss: 0.2266\n",
            "Epoch 90/100\n",
            "\u001b[1m3/3\u001b[0m \u001b[32m━━━━━━━━━━━━━━━━━━━━\u001b[0m\u001b[37m\u001b[0m \u001b[1m0s\u001b[0m 29ms/step - accuracy: 0.8750 - loss: 0.3412 - val_accuracy: 0.8500 - val_loss: 0.2239\n",
            "Epoch 91/100\n",
            "\u001b[1m3/3\u001b[0m \u001b[32m━━━━━━━━━━━━━━━━━━━━\u001b[0m\u001b[37m\u001b[0m \u001b[1m0s\u001b[0m 27ms/step - accuracy: 0.8492 - loss: 0.3561 - val_accuracy: 0.8500 - val_loss: 0.2229\n",
            "Epoch 92/100\n",
            "\u001b[1m3/3\u001b[0m \u001b[32m━━━━━━━━━━━━━━━━━━━━\u001b[0m\u001b[37m\u001b[0m \u001b[1m0s\u001b[0m 29ms/step - accuracy: 0.8492 - loss: 0.3444 - val_accuracy: 0.9000 - val_loss: 0.2213\n",
            "Epoch 93/100\n",
            "\u001b[1m3/3\u001b[0m \u001b[32m━━━━━━━━━━━━━━━━━━━━\u001b[0m\u001b[37m\u001b[0m \u001b[1m0s\u001b[0m 28ms/step - accuracy: 0.8844 - loss: 0.3103 - val_accuracy: 0.8500 - val_loss: 0.2211\n",
            "Epoch 94/100\n",
            "\u001b[1m3/3\u001b[0m \u001b[32m━━━━━━━━━━━━━━━━━━━━\u001b[0m\u001b[37m\u001b[0m \u001b[1m0s\u001b[0m 39ms/step - accuracy: 0.8492 - loss: 0.3508 - val_accuracy: 0.9000 - val_loss: 0.2216\n",
            "Epoch 95/100\n",
            "\u001b[1m3/3\u001b[0m \u001b[32m━━━━━━━━━━━━━━━━━━━━\u001b[0m\u001b[37m\u001b[0m \u001b[1m0s\u001b[0m 32ms/step - accuracy: 0.8359 - loss: 0.3934 - val_accuracy: 0.9000 - val_loss: 0.2231\n",
            "Epoch 96/100\n",
            "\u001b[1m3/3\u001b[0m \u001b[32m━━━━━━━━━━━━━━━━━━━━\u001b[0m\u001b[37m\u001b[0m \u001b[1m0s\u001b[0m 28ms/step - accuracy: 0.8414 - loss: 0.3783 - val_accuracy: 0.9000 - val_loss: 0.2236\n",
            "Epoch 97/100\n",
            "\u001b[1m3/3\u001b[0m \u001b[32m━━━━━━━━━━━━━━━━━━━━\u001b[0m\u001b[37m\u001b[0m \u001b[1m0s\u001b[0m 28ms/step - accuracy: 0.8258 - loss: 0.3832 - val_accuracy: 0.9000 - val_loss: 0.2235\n",
            "Epoch 98/100\n",
            "\u001b[1m3/3\u001b[0m \u001b[32m━━━━━━━━━━━━━━━━━━━━\u001b[0m\u001b[37m\u001b[0m \u001b[1m0s\u001b[0m 28ms/step - accuracy: 0.8609 - loss: 0.3344 - val_accuracy: 0.9000 - val_loss: 0.2231\n",
            "Epoch 99/100\n",
            "\u001b[1m3/3\u001b[0m \u001b[32m━━━━━━━━━━━━━━━━━━━━\u001b[0m\u001b[37m\u001b[0m \u001b[1m0s\u001b[0m 32ms/step - accuracy: 0.9039 - loss: 0.2957 - val_accuracy: 0.9000 - val_loss: 0.2214\n",
            "Epoch 100/100\n",
            "\u001b[1m3/3\u001b[0m \u001b[32m━━━━━━━━━━━━━━━━━━━━\u001b[0m\u001b[37m\u001b[0m \u001b[1m0s\u001b[0m 30ms/step - accuracy: 0.8453 - loss: 0.3424 - val_accuracy: 0.9000 - val_loss: 0.2187\n"
          ]
        }
      ]
    },
    {
      "cell_type": "code",
      "source": [
        "model.get_weights()"
      ],
      "metadata": {
        "colab": {
          "base_uri": "https://localhost:8080/"
        },
        "id": "WoP77EQkbiBk",
        "outputId": "303c8c94-d22b-48d3-b453-847e36e85d54"
      },
      "execution_count": 15,
      "outputs": [
        {
          "output_type": "execute_result",
          "data": {
            "text/plain": [
              "[array([[ 0.98230034, -0.7765809 ,  1.0733738 , -1.1106453 ,  0.48265663,\n",
              "          0.6872358 , -0.69321054, -0.13343757, -0.7536186 , -1.0594963 ],\n",
              "        [ 0.31949484, -0.27549842, -0.2574182 ,  1.4308256 ,  1.334889  ,\n",
              "          1.1919523 , -0.20823798,  0.05585298, -1.4235095 , -0.2267886 ]],\n",
              "       dtype=float32),\n",
              " array([ 0.0059393 ,  0.01757498,  0.00413145,  0.01255488,  0.14117336,\n",
              "         0.11707877, -0.06565767, -0.15770154,  0.29487753, -0.01421591],\n",
              "       dtype=float32),\n",
              " array([[-0.18244433, -0.19068275,  0.25735965, -0.15451294, -0.5792078 ,\n",
              "         -0.39259967,  0.2620344 ,  0.7070888 ,  0.33909085,  0.45031297],\n",
              "        [-0.14449246, -0.41399413,  0.21569514, -0.65471315, -0.16774593,\n",
              "         -0.29903105, -0.34685704, -0.51227766,  0.13431202, -0.12312766],\n",
              "        [ 1.1422715 ,  0.17440727,  0.4776382 , -0.12646864,  0.13939352,\n",
              "         -0.38533396,  0.09755926,  0.11003873, -0.25004858, -0.2356764 ],\n",
              "        [-0.02785755,  0.5551856 ,  0.4783116 ,  0.34048742,  0.9653536 ,\n",
              "          0.07048253, -0.3048808 ,  0.16898358,  0.19092903, -0.04043464],\n",
              "        [-0.05218151,  0.16348411,  0.08348167, -0.10692157,  0.3140593 ,\n",
              "          0.780603  ,  0.21873313, -0.13639212,  0.23792982,  0.14498042],\n",
              "        [ 0.2257751 ,  0.1709364 ,  0.3387261 , -0.28175402,  0.22924562,\n",
              "          0.58680385,  0.21243294, -0.62518734, -0.02754827,  0.32542726],\n",
              "        [-0.16116107,  0.15406214,  0.18409644,  0.2490223 ,  0.64060557,\n",
              "         -0.07164531, -0.08195336,  0.13076118, -0.10720696,  0.22738051],\n",
              "        [ 0.09060695, -0.42145622, -0.72854173,  0.20667912, -0.10048834,\n",
              "         -0.3588509 , -0.18035199,  0.22307219, -0.13388349,  0.19740246],\n",
              "        [ 0.16492063, -0.07225382,  0.71091604, -0.06795131, -0.02551623,\n",
              "         -0.62267965,  0.00493167,  0.12575157,  0.32987243,  0.03681108],\n",
              "        [ 0.05522098,  0.4668681 , -0.0752006 , -0.2665497 ,  0.22888426,\n",
              "          0.18566993, -0.37007302, -0.13674514,  0.6908034 , -0.4444857 ]],\n",
              "       dtype=float32),\n",
              " array([ 0.12280232,  0.02999024,  0.12157302, -0.0411167 ,  0.00108078,\n",
              "         0.17057537,  0.11572623,  0.20261939,  0.09940877,  0.01262714],\n",
              "       dtype=float32),\n",
              " array([[ 0.07948893, -0.36684313,  0.5762261 ,  0.5605267 , -0.31536442,\n",
              "         -0.82466763, -0.00261   , -0.20013884,  0.22572778,  0.01420957],\n",
              "        [ 0.3250723 ,  0.2038179 ,  0.01654662,  0.25868958,  0.27489066,\n",
              "          0.22843458,  0.42239603,  0.64301807, -0.47246575,  0.16040255],\n",
              "        [ 0.20514846, -0.24358074,  0.04010223,  0.30110988,  0.05538188,\n",
              "         -0.06317955,  0.6029305 ,  0.04716284,  0.77283865, -0.12779924],\n",
              "        [-0.3092305 ,  0.23367018,  0.13855846,  0.5593322 ,  0.35238487,\n",
              "         -0.05988619,  0.12792774,  0.25695655,  0.02616613,  0.5061568 ],\n",
              "        [ 0.43612233, -0.13069245, -0.6081694 , -0.24684405, -0.06498774,\n",
              "         -0.30279613, -0.53212446,  0.49951944, -0.21011549, -0.2971051 ],\n",
              "        [-0.29578644, -0.27715796, -0.30584   ,  0.21178705, -0.02595147,\n",
              "         -0.44195226,  0.4731078 ,  0.29715422, -0.38715342, -0.11253805],\n",
              "        [ 0.17605643,  0.414372  ,  0.22898765, -0.08485763, -0.4612311 ,\n",
              "         -0.06571787, -0.07250185,  0.18511716, -0.07983562,  0.1950351 ],\n",
              "        [ 0.4419398 , -0.1427979 ,  0.5857092 ,  0.3276528 ,  0.05552337,\n",
              "         -0.28108948,  0.39125162, -0.28915778,  0.41629678,  0.0208285 ],\n",
              "        [ 0.08713174,  0.22860338,  0.12550238,  0.2351001 , -0.28070334,\n",
              "          0.15693073,  0.38351184,  0.6449012 ,  0.18252875,  0.05037738],\n",
              "        [ 0.29237208,  0.13498   , -0.26402417, -0.11604626, -0.59847015,\n",
              "          0.04940109,  0.13279492,  0.5116419 ,  0.3938572 , -0.09182358]],\n",
              "       dtype=float32),\n",
              " array([ 0.06839649,  0.        ,  0.16383626,  0.16645916, -0.01420779,\n",
              "         0.        , -0.06332903,  0.05461086,  0.15091471, -0.02519456],\n",
              "       dtype=float32),\n",
              " array([[-0.18740334,  0.31407124,  0.19735374,  0.08138412, -0.00286454,\n",
              "         -0.21486406,  0.96274954,  0.33071905,  0.39465708, -0.11704741],\n",
              "        [-0.2750851 ,  0.04614929, -0.5137628 , -0.400715  , -0.276854  ,\n",
              "          0.2543274 , -0.31953755,  0.12220427,  0.65968966, -0.07305355],\n",
              "        [-0.37047395,  0.04543025,  0.3815088 , -0.56558305,  0.0688135 ,\n",
              "         -0.12043285, -0.44843954,  0.52251375,  0.3099907 ,  0.47449628],\n",
              "        [-0.22843492, -0.6692194 ,  0.43568778,  0.01531279,  0.12975356,\n",
              "         -0.47274294, -0.01372256, -0.16809872, -0.23174484, -0.33892286],\n",
              "        [ 0.1598433 ,  0.13794969, -0.27858028, -0.10778532, -0.3250227 ,\n",
              "         -0.38588113, -0.11874616,  0.01097354,  0.57065356, -0.15767191],\n",
              "        [-0.43714842,  0.27811408,  0.02446728, -0.21157904,  0.6177127 ,\n",
              "         -0.01986548, -0.07462081,  0.3176656 ,  0.12646273,  0.22864261],\n",
              "        [ 0.82783765, -0.4319431 ,  0.01734229,  0.49368185, -0.11305109,\n",
              "          0.30948845,  0.10405876,  0.43634307, -0.4226666 , -0.14269744],\n",
              "        [ 0.19601715, -0.09722172, -0.77327156,  0.34944004,  0.95369923,\n",
              "         -0.2251273 , -0.10510278, -0.8398049 , -0.2736309 ,  0.06948228],\n",
              "        [ 0.5287579 , -0.41305402,  0.4211695 ,  0.14871535, -0.10811966,\n",
              "          0.15515354,  0.69302964,  0.49507412, -0.31298202, -0.33853495],\n",
              "        [ 0.33016586, -0.20791075, -0.1655638 ,  0.15969437, -0.15131564,\n",
              "          0.20895159,  0.51553714, -0.03672121,  0.21987201,  0.05920452]],\n",
              "       dtype=float32),\n",
              " array([-0.14672248, -0.03815382,  0.1414332 , -0.00913589, -0.02420502,\n",
              "         0.00377744, -0.12273911,  0.15734205, -0.02900274,  0.        ],\n",
              "       dtype=float32),\n",
              " array([[-0.15695988],\n",
              "        [ 0.24928346],\n",
              "        [ 0.799451  ],\n",
              "        [-0.33448076],\n",
              "        [-0.53476185],\n",
              "        [-0.01732476],\n",
              "        [-0.09465916],\n",
              "        [ 0.44853675],\n",
              "        [ 0.25771478],\n",
              "        [-0.09029477]], dtype=float32),\n",
              " array([0.12543957], dtype=float32)]"
            ]
          },
          "metadata": {},
          "execution_count": 15
        }
      ]
    },
    {
      "cell_type": "code",
      "source": [
        "from mlxtend.plotting import plot_decision_regions\n",
        "plot_decision_regions(X,y.astype('int'), clf=model, legend=2)"
      ],
      "metadata": {
        "colab": {
          "base_uri": "https://localhost:8080/",
          "height": 465
        },
        "id": "PENxs29VboUA",
        "outputId": "a38d34b2-365d-4d2d-8c20-2d90e0c26f38"
      },
      "execution_count": 16,
      "outputs": [
        {
          "output_type": "stream",
          "name": "stdout",
          "text": [
            "\u001b[1m9600/9600\u001b[0m \u001b[32m━━━━━━━━━━━━━━━━━━━━\u001b[0m\u001b[37m\u001b[0m \u001b[1m14s\u001b[0m 1ms/step\n"
          ]
        },
        {
          "output_type": "execute_result",
          "data": {
            "text/plain": [
              "<Axes: >"
            ]
          },
          "metadata": {},
          "execution_count": 16
        },
        {
          "output_type": "display_data",
          "data": {
            "text/plain": [
              "<Figure size 640x480 with 1 Axes>"
            ],
            "image/png": "[encoded data removed]"
          },
          "metadata": {}
        }
      ]
    },
    {
      "cell_type": "code",
      "source": [
        "(np.random.randn(10,10)*0.01).min()"
      ],
      "metadata": {
        "colab": {
          "base_uri": "https://localhost:8080/"
        },
        "id": "GlNVhmLubsRJ",
        "outputId": "db963726-0bf8-42ca-e5fc-b5325afe325a"
      },
      "execution_count": 17,
      "outputs": [
        {
          "output_type": "execute_result",
          "data": {
            "text/plain": [
              "-0.028942432128247746"
            ]
          },
          "metadata": {},
          "execution_count": 17
        }
      ]
    },
    {
      "cell_type": "code",
      "source": [
        "(np.random.randn(10,10)*0.01).max()"
      ],
      "metadata": {
        "id": "RMLlnCjTbwbj",
        "outputId": "bd86a63b-f8ba-42f2-c328-3490e0382075",
        "colab": {
          "base_uri": "https://localhost:8080/"
        }
      },
      "execution_count": 18,
      "outputs": [
        {
          "output_type": "execute_result",
          "data": {
            "text/plain": [
              "0.03734486531189359"
            ]
          },
          "metadata": {},
          "execution_count": 18
        }
      ]
    }
  ]
}